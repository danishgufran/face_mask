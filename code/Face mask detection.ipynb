{
 "cells": [
  {
   "cell_type": "code",
   "execution_count": 1,
   "metadata": {},
   "outputs": [],
   "source": [
    "# import the necessary packages\n",
    "import tensorflow as tf\n",
    "from tensorflow.keras.preprocessing.image import ImageDataGenerator\n",
    "from tensorflow.keras.applications import MobileNetV2\n",
    "from tensorflow.keras.layers import AveragePooling2D\n",
    "from tensorflow.keras.layers import Dropout\n",
    "from tensorflow.keras.layers import Flatten\n",
    "from tensorflow.keras.layers import Dense\n",
    "from tensorflow.keras.layers import Input\n",
    "from tensorflow.keras.models import Model\n",
    "from tensorflow.keras.optimizers import RMSprop\n",
    "from tensorflow.keras.applications.mobilenet_v2 import preprocess_input\n",
    "from tensorflow.keras.preprocessing.image import img_to_array\n",
    "from tensorflow.keras.preprocessing.image import load_img\n",
    "from tensorflow.keras.utils import to_categorical\n",
    "from sklearn.preprocessing import LabelBinarizer\n",
    "from sklearn.model_selection import train_test_split\n",
    "from sklearn.metrics import classification_report\n",
    "from imutils import paths\n",
    "import matplotlib.pyplot as plt\n",
    "import numpy as np\n",
    "import os"
   ]
  },
  {
   "cell_type": "code",
   "execution_count": 2,
   "metadata": {},
   "outputs": [],
   "source": [
    "DIRECTORY = r\"C:\\Users\\hp\\Desktop\\Face-Mask-Detection-master\\dataset\"\n",
    "CATEGORIES = [\"with_mask\", \"without_mask\"]"
   ]
  },
  {
   "cell_type": "code",
   "execution_count": 5,
   "metadata": {},
   "outputs": [
    {
     "name": "stdout",
     "output_type": "stream",
     "text": [
      " loading images...\n"
     ]
    }
   ],
   "source": [
    "print(\" loading images...\")\n",
    "\n",
    "data = []\n",
    "labels = []\n",
    "\n",
    "for category in CATEGORIES:\n",
    "    path = os.path.join(DIRECTORY, category)\n",
    "    for img in os.listdir(path):\n",
    "    \timg_path = os.path.join(path, img)\n",
    "    \timage = load_img(img_path, target_size=(224, 224))\n",
    "    \timage = img_to_array(image)\n",
    "    \timage = preprocess_input(image)\n",
    "\n",
    "    \tdata.append(image)\n",
    "    \tlabels.append(category)\n",
    "lb = LabelBinarizer()\n",
    "labels = lb.fit_transform(labels)\n",
    "labels = to_categorical(labels)\n",
    "\n",
    "data = np.array(data, dtype=\"float32\")\n",
    "labels = np.array(labels)\n",
    "\n",
    "(trainX, testX, trainY, testY) = train_test_split(data, labels,\n",
    "\ttest_size=0.20, stratify=labels, random_state=42)"
   ]
  },
  {
   "cell_type": "code",
   "execution_count": 9,
   "metadata": {},
   "outputs": [
    {
     "name": "stderr",
     "output_type": "stream",
     "text": [
      "E:\\anaconda\\envs\\tensorflow\\lib\\site-packages\\keras_applications\\mobilenet_v2.py:294: UserWarning: `input_shape` is undefined or non-square, or `rows` is not in [96, 128, 160, 192, 224]. Weights for input shape (224, 224) will be loaded as the default.\n",
      "  warnings.warn('`input_shape` is undefined or non-square, '\n"
     ]
    }
   ],
   "source": [
    "aug = ImageDataGenerator(\n",
    "\trotation_range=20,\n",
    "\tzoom_range=0.15,\n",
    "\twidth_shift_range=0.2,\n",
    "\theight_shift_range=0.2,\n",
    "\tshear_range=0.15,\n",
    "\thorizontal_flip=True,\n",
    "\tfill_mode=\"nearest\")\n",
    "\n",
    "baseModel = MobileNetV2(weights=\"imagenet\", include_top=False,\n",
    "\tinput_tensor=Input(shape=(224, 224, 3)))\n",
    "\n",
    "headModel = baseModel.output\n",
    "headModel = tf.keras.layers.Conv2D(64, (3, 3), activation='relu',padding = 'same', input_shape=(224, 224, 3))(headModel)\n",
    "headModel = tf.keras.layers.MaxPooling2D(7, 7)(headModel)\n",
    "headModel = tf.keras.layers.Conv2D(128, (3, 3),padding = 'same', activation='relu')(headModel)\n",
    "headModel = tf.keras.layers.Conv2D(256, (3, 3),padding = 'same', activation='relu')(headModel)\n",
    "headModel = tf.keras.layers.Flatten()(headModel)\n",
    "headModel = tf.keras.layers.Dense(128, activation='relu')(headModel)\n",
    "headModel = Dropout(0.1)(headModel)\n",
    "headModel = tf.keras.layers.Dense(2, activation='softmax')(headModel)\n",
    "\n",
    "model = Model(inputs=baseModel.input, outputs=headModel)"
   ]
  },
  {
   "cell_type": "code",
   "execution_count": 12,
   "metadata": {},
   "outputs": [
    {
     "name": "stdout",
     "output_type": "stream",
     "text": [
      " compiling model...\n",
      " training head...\n",
      "WARNING:tensorflow:sample_weight modes were coerced from\n",
      "  ...\n",
      "    to  \n",
      "  ['...']\n",
      "Train for 95 steps, validate on 767 samples\n",
      "Epoch 1/15\n",
      "95/95 [==============================] - 74s 776ms/step - loss: 0.6515 - accuracy: 0.7317 - val_loss: 0.6110 - val_accuracy: 0.7255\n",
      "Epoch 2/15\n",
      "95/95 [==============================] - 68s 716ms/step - loss: 0.5399 - accuracy: 0.8721 - val_loss: 0.5084 - val_accuracy: 0.8302\n",
      "Epoch 3/15\n",
      "95/95 [==============================] - 67s 708ms/step - loss: 0.3950 - accuracy: 0.9166 - val_loss: 0.4400 - val_accuracy: 0.8261\n",
      "Epoch 4/15\n",
      "95/95 [==============================] - 68s 714ms/step - loss: 0.2843 - accuracy: 0.9308 - val_loss: 0.3655 - val_accuracy: 0.8478\n",
      "Epoch 5/15\n",
      "95/95 [==============================] - 68s 717ms/step - loss: 0.2230 - accuracy: 0.9351 - val_loss: 0.3064 - val_accuracy: 0.8696\n",
      "Epoch 6/15\n",
      "95/95 [==============================] - 67s 709ms/step - loss: 0.1775 - accuracy: 0.9476 - val_loss: 0.3186 - val_accuracy: 0.8641\n",
      "Epoch 7/15\n",
      "95/95 [==============================] - 67s 708ms/step - loss: 0.1495 - accuracy: 0.9506 - val_loss: 0.2956 - val_accuracy: 0.8655\n",
      "Epoch 8/15\n",
      "95/95 [==============================] - 68s 717ms/step - loss: 0.1375 - accuracy: 0.9581 - val_loss: 0.2820 - val_accuracy: 0.8777\n",
      "Epoch 9/15\n",
      "95/95 [==============================] - 67s 708ms/step - loss: 0.1167 - accuracy: 0.9608 - val_loss: 0.3138 - val_accuracy: 0.8709\n",
      "Epoch 10/15\n",
      "95/95 [==============================] - 68s 716ms/step - loss: 0.1128 - accuracy: 0.9624 - val_loss: 0.2384 - val_accuracy: 0.9008\n",
      "Epoch 11/15\n",
      "95/95 [==============================] - 68s 715ms/step - loss: 0.1088 - accuracy: 0.9624 - val_loss: 0.2294 - val_accuracy: 0.9076\n",
      "Epoch 12/15\n",
      "95/95 [==============================] - 67s 709ms/step - loss: 0.1110 - accuracy: 0.9647 - val_loss: 0.2571 - val_accuracy: 0.9008\n",
      "Epoch 13/15\n",
      "95/95 [==============================] - 67s 709ms/step - loss: 0.0951 - accuracy: 0.9667 - val_loss: 0.2420 - val_accuracy: 0.9049\n",
      "Epoch 14/15\n",
      "95/95 [==============================] - 67s 708ms/step - loss: 0.1012 - accuracy: 0.9621 - val_loss: 0.2428 - val_accuracy: 0.9049\n",
      "Epoch 15/15\n",
      "95/95 [==============================] - 67s 709ms/step - loss: 0.0784 - accuracy: 0.9776 - val_loss: 0.2493 - val_accuracy: 0.9035\n"
     ]
    }
   ],
   "source": [
    "INIT_LR = 1e-5\n",
    "EPOCH = 15\n",
    "BS = 32\n",
    "for layer in baseModel.layers:\n",
    "\tlayer.trainable = False\n",
    "\n",
    "print(\" compiling model...\")\n",
    "opt = RMSprop(lr=INIT_LR, decay=INIT_LR / EPOCH)\n",
    "model.compile(loss=\"binary_crossentropy\", optimizer=opt,\n",
    "\tmetrics=[\"accuracy\"])\n",
    "\n",
    "checkpoint_filepath = '/tmp/checkpoint'\n",
    "model_checkpoint_callback = tf.keras.callbacks.ModelCheckpoint(\n",
    "    filepath=checkpoint_filepath,\n",
    "    save_weights_only=True,\n",
    "    monitor='val_accuracy',\n",
    "    mode='max',\n",
    "    save_best_only=True)\n",
    "\n",
    "print(\" training head...\")\n",
    "H = model.fit(\n",
    "\taug.flow(trainX, trainY, batch_size=BS),\n",
    "\tsteps_per_epoch=len(trainX) // BS,\n",
    "\tvalidation_data=(testX, testY),\n",
    "\tvalidation_steps=len(testX) // BS,\n",
    "\tepochs=EPOCH,\n",
    "\tcallbacks=[model_checkpoint_callback])"
   ]
  },
  {
   "cell_type": "code",
   "execution_count": 13,
   "metadata": {},
   "outputs": [
    {
     "name": "stdout",
     "output_type": "stream",
     "text": [
      "767/767 [==============================] - 15s 19ms/sample - loss: 0.2634 - accuracy: 0.9035\n",
      "\n",
      "Test accuracy: 0.9035202\n"
     ]
    }
   ],
   "source": [
    "test_loss, test_acc = model.evaluate(testX, testY)\n",
    "print('\\nTest accuracy:', test_acc)"
   ]
  },
  {
   "cell_type": "code",
   "execution_count": 14,
   "metadata": {},
   "outputs": [
    {
     "name": "stdout",
     "output_type": "stream",
     "text": [
      "[INFO] saving mask detector model...\n"
     ]
    }
   ],
   "source": [
    "print(\"[INFO] saving mask detector model...\")\n",
    "model.save(\"mask_detector.model\", save_format=\"h5\")"
   ]
  },
  {
   "cell_type": "code",
   "execution_count": 16,
   "metadata": {},
   "outputs": [
    {
     "data": {
      "image/png": "[encoded data removed]",
      "text/plain": [
       "<Figure size 432x288 with 1 Axes>"
      ]
     },
     "metadata": {},
     "output_type": "display_data"
    }
   ],
   "source": [
    "N = EPOCH\n",
    "plt.style.use(\"ggplot\")\n",
    "plt.figure()\n",
    "plt.plot(np.arange(0, N), H.history[\"loss\"], label=\"train_loss\")\n",
    "plt.plot(np.arange(0, N), H.history[\"val_loss\"], label=\"val_loss\")\n",
    "plt.plot(np.arange(0, N), H.history[\"accuracy\"], label=\"train_acc\")\n",
    "plt.plot(np.arange(0, N), H.history[\"val_accuracy\"], label=\"val_acc\")\n",
    "plt.title(\"Training Loss and Accuracy\")\n",
    "plt.xlabel(\"Epoch #\")\n",
    "plt.ylabel(\"Loss/Accuracy\")\n",
    "plt.legend(loc=\"lower left\")\n",
    "plt.savefig(\"plot.png\")"
   ]
  },
  {
   "cell_type": "code",
   "execution_count": 17,
   "metadata": {},
   "outputs": [
    {
     "name": "stdout",
     "output_type": "stream",
     "text": [
      "[INFO] saving TFlite detector model...\n"
     ]
    }
   ],
   "source": [
    "converter = tf.lite.TFLiteConverter.from_keras_model(model)\n",
    "converter.target_spec.supported_ops = [tf.lite.OpsSet.TFLITE_BUILTINS,\n",
    "                                       tf.lite.OpsSet.SELECT_TF_OPS]\n",
    "tflite_model = converter.convert()\n",
    "print(\"[INFO] saving TFlite detector model...\")\n",
    "with open('model.tflite', 'wb') as f:\n",
    "  f.write(tflite_model)"
   ]
  },
  {
   "cell_type": "code",
   "execution_count": 19,
   "metadata": {},
   "outputs": [
    {
     "name": "stdout",
     "output_type": "stream",
     "text": [
      "test accuracy: 0.9035202\n",
      "Saved baseline model to: C:\\Users\\hp\\AppData\\Local\\Temp\\tmpp5yfzro8.h5\n"
     ]
    }
   ],
   "source": [
    "import tempfile\n",
    "import os\n",
    "_, model_accuracy = model.evaluate(\n",
    "    testX,testY, verbose=0)\n",
    "\n",
    "print('test accuracy:', model_accuracy)\n",
    "\n",
    "_, keras_file = tempfile.mkstemp('.h5')\n",
    "tf.keras.models.save_model(model, keras_file, include_optimizer=False)\n",
    "print('Saved baseline model to:', keras_file)"
   ]
  },
  {
   "cell_type": "code",
   "execution_count": 20,
   "metadata": {},
   "outputs": [
    {
     "name": "stdout",
     "output_type": "stream",
     "text": [
      "Size ofthe model: 12624566.00 bytes\n"
     ]
    }
   ],
   "source": [
    "\n",
    "def get_gzipped_model_size(file):\n",
    "  # Returns size of gzipped model, in bytes.\n",
    "  import os\n",
    "  import zipfile\n",
    "\n",
    "  _, zipped_file = tempfile.mkstemp('.zip')\n",
    "  with zipfile.ZipFile(zipped_file, 'w', compression=zipfile.ZIP_DEFLATED) as f:\n",
    "    f.write(file)\n",
    "\n",
    "  return os.path.getsize(zipped_file)\n",
    "\n",
    "print(\"Size ofthe model: %.2f bytes\" % (get_gzipped_model_size(keras_file)))"
   ]
  },
  {
   "cell_type": "code",
   "execution_count": null,
   "metadata": {},
   "outputs": [],
   "source": []
  }
 ],
 "metadata": {
  "kernelspec": {
   "display_name": "Python 3",
   "language": "python",
   "name": "python3"
  },
  "language_info": {
   "codemirror_mode": {
    "name": "ipython",
    "version": 3
   },
   "file_extension": ".py",
   "mimetype": "text/x-python",
   "name": "python",
   "nbconvert_exporter": "python",
   "pygments_lexer": "ipython3",
   "version": "3.7.7"
  }
 },
 "nbformat": 4,
 "nbformat_minor": 4
}
